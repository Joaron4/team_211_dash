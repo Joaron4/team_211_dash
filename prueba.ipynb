{
 "cells": [
  {
   "cell_type": "code",
   "execution_count": 12,
   "metadata": {},
   "outputs": [],
   "source": [
    "import pandas as pd"
   ]
  },
  {
   "cell_type": "code",
   "execution_count": 13,
   "metadata": {},
   "outputs": [],
   "source": [
    "delitos = pd.read_csv('./data/delitos_final.csv')\n",
    "df = delitos.groupby([\"ano\",\"barrios_hecho\",\"conducta\"]).size().to_frame(\"cantidad de delitos\").reset_index().rename(columns={\"barrios_hecho\":'barrio'})\n",
    "df1 = df.to_dict()"
   ]
  },
  {
   "cell_type": "code",
   "execution_count": 22,
   "metadata": {},
   "outputs": [
    {
     "data": {
      "text/html": [
       "<div>\n",
       "<style scoped>\n",
       "    .dataframe tbody tr th:only-of-type {\n",
       "        vertical-align: middle;\n",
       "    }\n",
       "\n",
       "    .dataframe tbody tr th {\n",
       "        vertical-align: top;\n",
       "    }\n",
       "\n",
       "    .dataframe thead th {\n",
       "        text-align: right;\n",
       "    }\n",
       "</style>\n",
       "<table border=\"1\" class=\"dataframe\">\n",
       "  <thead>\n",
       "    <tr style=\"text-align: right;\">\n",
       "      <th></th>\n",
       "      <th>ano</th>\n",
       "      <th>barrio</th>\n",
       "      <th>conducta</th>\n",
       "      <th>cantidad de delitos</th>\n",
       "    </tr>\n",
       "  </thead>\n",
       "  <tbody>\n",
       "    <tr>\n",
       "      <th>0</th>\n",
       "      <td>2010</td>\n",
       "      <td>12 DE OCTUBRE</td>\n",
       "      <td>HURTO</td>\n",
       "      <td>2</td>\n",
       "    </tr>\n",
       "    <tr>\n",
       "      <th>1</th>\n",
       "      <td>2010</td>\n",
       "      <td>12 DE OCTUBRE</td>\n",
       "      <td>LESIONES PERSONALES</td>\n",
       "      <td>8</td>\n",
       "    </tr>\n",
       "    <tr>\n",
       "      <th>2</th>\n",
       "      <td>2010</td>\n",
       "      <td>12 DE OCTUBRE</td>\n",
       "      <td>OTROS</td>\n",
       "      <td>1</td>\n",
       "    </tr>\n",
       "    <tr>\n",
       "      <th>3</th>\n",
       "      <td>2010</td>\n",
       "      <td>12 DE OCTUBRE</td>\n",
       "      <td>VIOLENCIA INTRAFAMILIAR</td>\n",
       "      <td>3</td>\n",
       "    </tr>\n",
       "    <tr>\n",
       "      <th>4</th>\n",
       "      <td>2010</td>\n",
       "      <td>13 DE JUNIO</td>\n",
       "      <td>HURTO</td>\n",
       "      <td>2</td>\n",
       "    </tr>\n",
       "    <tr>\n",
       "      <th>...</th>\n",
       "      <td>...</td>\n",
       "      <td>...</td>\n",
       "      <td>...</td>\n",
       "      <td>...</td>\n",
       "    </tr>\n",
       "    <tr>\n",
       "      <th>3998</th>\n",
       "      <td>2021</td>\n",
       "      <td>VILLAS DE GIRARDOT</td>\n",
       "      <td>OTROS</td>\n",
       "      <td>1</td>\n",
       "    </tr>\n",
       "    <tr>\n",
       "      <th>3999</th>\n",
       "      <td>2021</td>\n",
       "      <td>ZARABANDA</td>\n",
       "      <td>HURTO</td>\n",
       "      <td>1</td>\n",
       "    </tr>\n",
       "    <tr>\n",
       "      <th>4000</th>\n",
       "      <td>2021</td>\n",
       "      <td>ZARABANDA</td>\n",
       "      <td>LESIONES PERSONALES</td>\n",
       "      <td>6</td>\n",
       "    </tr>\n",
       "    <tr>\n",
       "      <th>4001</th>\n",
       "      <td>2021</td>\n",
       "      <td>ZARABANDA</td>\n",
       "      <td>OTROS</td>\n",
       "      <td>2</td>\n",
       "    </tr>\n",
       "    <tr>\n",
       "      <th>4002</th>\n",
       "      <td>2021</td>\n",
       "      <td>ZARABANDA</td>\n",
       "      <td>VIOLENCIA INTRAFAMILIAR</td>\n",
       "      <td>4</td>\n",
       "    </tr>\n",
       "  </tbody>\n",
       "</table>\n",
       "<p>4003 rows × 4 columns</p>\n",
       "</div>"
      ],
      "text/plain": [
       "       ano              barrio                 conducta  cantidad de delitos\n",
       "0     2010       12 DE OCTUBRE                    HURTO                    2\n",
       "1     2010       12 DE OCTUBRE      LESIONES PERSONALES                    8\n",
       "2     2010       12 DE OCTUBRE                    OTROS                    1\n",
       "3     2010       12 DE OCTUBRE  VIOLENCIA INTRAFAMILIAR                    3\n",
       "4     2010         13 DE JUNIO                    HURTO                    2\n",
       "...    ...                 ...                      ...                  ...\n",
       "3998  2021  VILLAS DE GIRARDOT                    OTROS                    1\n",
       "3999  2021           ZARABANDA                    HURTO                    1\n",
       "4000  2021           ZARABANDA      LESIONES PERSONALES                    6\n",
       "4001  2021           ZARABANDA                    OTROS                    2\n",
       "4002  2021           ZARABANDA  VIOLENCIA INTRAFAMILIAR                    4\n",
       "\n",
       "[4003 rows x 4 columns]"
      ]
     },
     "execution_count": 22,
     "metadata": {},
     "output_type": "execute_result"
    }
   ],
   "source": [
    "df"
   ]
  },
  {
   "cell_type": "code",
   "execution_count": 25,
   "metadata": {},
   "outputs": [
    {
     "data": {
      "text/plain": [
       "pandas.core.frame.DataFrame"
      ]
     },
     "execution_count": 25,
     "metadata": {},
     "output_type": "execute_result"
    }
   ],
   "source": [
    "type(df.groupby([\"ano\",\"barrio\"]).sum().reset_index())"
   ]
  }
 ],
 "metadata": {
  "kernelspec": {
   "display_name": "Python 3.9.7 ('base')",
   "language": "python",
   "name": "python3"
  },
  "language_info": {
   "codemirror_mode": {
    "name": "ipython",
    "version": 3
   },
   "file_extension": ".py",
   "mimetype": "text/x-python",
   "name": "python",
   "nbconvert_exporter": "python",
   "pygments_lexer": "ipython3",
   "version": "3.9.12"
  },
  "orig_nbformat": 4,
  "vscode": {
   "interpreter": {
    "hash": "7078a571c052326c69fc3c2cadfe0d3a977c8aad200c76eedaa12687c2ac850f"
   }
  }
 },
 "nbformat": 4,
 "nbformat_minor": 2
}
